{
 "cells": [
  {
   "cell_type": "markdown",
   "metadata": {},
   "source": [
    "=================================================================================================\n",
    "## Answer no. 1\n",
    "\n",
    "### Object-Oriented Programming (OOP) :\n",
    "         Object-oriented programming (OOP) is a programming language model\n",
    "         in which programs are organized around data, or objects, rather than\n",
    "         functions and logic. An object can be defined as a data field that\n",
    "         has unique attributes and behavior.\n",
    "================================================================================================="
   ]
  },
  {
   "cell_type": "markdown",
   "metadata": {},
   "source": [
    "=================================================================================================\n",
    "\n",
    "## Answer no. 2\n",
    "\n",
    "   ### BENEFITS OF OOP :\n",
    "\n",
    "   1) The programming gets easy and efficient.\n",
    "\n",
    "   2) The class is sharable, so codes can be reused.\n",
    "\n",
    "   3) The productivity of programming increases.\n",
    "\n",
    "   4) Data is save and secure with data abstraction.\n",
    "\n",
    "================================================================================================="
   ]
  },
  {
   "cell_type": "markdown",
   "metadata": {},
   "source": [
    "=================================================================================================\n",
    "## Answer no. 3\n",
    "\n",
    "### Comparison Between Method and Function:-\n",
    "\n",
    "#### METHOD :\n",
    "      1) Method is called by its name, but it is associated to an object (dependent).\n",
    "      2) Method is implicitly passed the object on which it is invoked.\n",
    "      3) It may or may not return any data.\n",
    "      4) A method can operate on the data (instance variables) that is contained by the corresponding class.\n",
    "\n",
    "#### FUNCTION :\n",
    "      1) Function is block of code that is also called by its name. (independent)\n",
    "      2) The function can have different parameters or may not have any at all. If any data (parameters) are\n",
    "         passed, they are passed explicitly.\n",
    "      3) It may or may not return any data.\n",
    "      4) Function does not deal with Class and its instance concept.\n",
    "================================================================================================="
   ]
  },
  {
   "cell_type": "markdown",
   "metadata": {},
   "source": [
    "=================================================================================================\n",
    "## Answer no. 4\n",
    "\n",
    "\n",
    "#### CLASS :\n",
    "     It is a templet or blue print about the capability of what an object can do.\n",
    "\n",
    "#### OBJECT :\n",
    "     An object (instance) is an instantiation of a class. When class is defined, only\n",
    "     the description for the object is defined. Therefore, no memory or storage is allocated.\n",
    "\n",
    "#### ATTRIBUTES :\n",
    "     All classes create objects, and all objects contain characteristics called attributes\n",
    "     (referred to as properties in the opening paragraph). Use the __init__() method to initialize\n",
    "     (e.g., specify) an object’s initial attributes by giving them their default value (or state).\n",
    "\n",
    "#### BEHAVIOR :\n",
    "     child classes override or extend the functionality (e.g., attributes and behaviors) of parent\n",
    "     classes. In other words, child classes inherit all of the parent’s attributes and behaviors\n",
    "     but can also specify different behavior to follow.\n",
    "================================================================================================="
   ]
  },
  {
   "cell_type": "code",
   "execution_count": 38,
   "metadata": {},
   "outputs": [
    {
     "name": "stdout",
     "output_type": "stream",
     "text": [
      "======================\n",
      "     CAR DETAILS\n",
      "======================\n",
      "\n",
      "Name  = Civic\n",
      "Model = 2018\n",
      "Color = Red\n",
      "Maker = Honda\n",
      "Gears = 5\n",
      "\n",
      "\n",
      "======================\n",
      "  UPDATED CAR DETAILS\n",
      "======================\n",
      "\n",
      "Name  = City\n",
      "Model = 2004\n",
      "Color = Red\n",
      "Maker = Honda\n",
      "Gears = 4\n"
     ]
    }
   ],
   "source": [
    "# Answer no. 5\n",
    "\n",
    "class Car():\n",
    "    def __init__(self,name,model,color,maker,gear):\n",
    "        self.name = name\n",
    "        self.model = model\n",
    "        self.color = color\n",
    "        self.maker = maker\n",
    "        self.gear = gear\n",
    "        \n",
    "    def updatename(self,newName):\n",
    "        self.name = newName\n",
    "        \n",
    "    def updatemodel(self,newModel):\n",
    "        self.model = newModel\n",
    "\n",
    "    def updategear(self,newGear):\n",
    "        self.gear = newGear\n",
    "\n",
    "car = Car(\"Civic\",\"2018\",\"Red\",\"Honda\",\"5\")\n",
    "print(\"======================\\n     CAR DETAILS\\n======================\\n\")\n",
    "print(\"Name  = \"+car.name)\n",
    "print(\"Model = \"+car.model)\n",
    "print(\"Color = \"+car.color)\n",
    "print(\"Maker = \"+car.maker)\n",
    "print(\"Gears = \"+car.gear)\n",
    "\n",
    "\n",
    "car.updatename(\"City\")\n",
    "car.updatemodel(\"2004\")\n",
    "car.updategear(\"4\")\n",
    "\n",
    "\n",
    "print(\"\\n\")\n",
    "print(\"======================\\n  UPDATED CAR DETAILS\\n======================\\n\")\n",
    "print(\"Name  = \"+car.name)\n",
    "print(\"Model = \"+car.model)\n",
    "print(\"Color = \"+car.color)\n",
    "print(\"Maker = \"+car.maker)\n",
    "print(\"Gears = \"+car.gear)"
   ]
  }
 ],
 "metadata": {
  "kernelspec": {
   "display_name": "Python 3",
   "language": "python",
   "name": "python3"
  },
  "language_info": {
   "codemirror_mode": {
    "name": "ipython",
    "version": 3
   },
   "file_extension": ".py",
   "mimetype": "text/x-python",
   "name": "python",
   "nbconvert_exporter": "python",
   "pygments_lexer": "ipython3",
   "version": "3.7.4"
  }
 },
 "nbformat": 4,
 "nbformat_minor": 2
}
