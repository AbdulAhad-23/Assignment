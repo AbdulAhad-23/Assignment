{
 "cells": [
  {
   "cell_type": "code",
   "execution_count": 1,
   "metadata": {},
   "outputs": [
    {
     "name": "stdout",
     "output_type": "stream",
     "text": [
      "Twinkle, twinkle, little star,\n",
      "      How I wonder what you are!\n",
      "             Up above the world so high,\n",
      "             Like a diamond in the sky.\n",
      "Twinkle, twinkle, little star,\n",
      "      How I wonder what you are.\n"
     ]
    }
   ],
   "source": [
    "# Answer no.1\n",
    "\n",
    "# There are two different methods to generate the output in sepcified format.\n",
    "# Method no.1\n",
    "\n",
    "print (\"Twinkle, twinkle, little star,\\n      How I wonder what you are!\\n             Up above the world so high,\\n             Like a diamond in the sky.\\nTwinkle, twinkle, little star,\\n      How I wonder what you are.\")"
   ]
  },
  {
   "cell_type": "code",
   "execution_count": 2,
   "metadata": {},
   "outputs": [
    {
     "name": "stdout",
     "output_type": "stream",
     "text": [
      "Twinkle, twinkle, little star\n",
      "      How I wonder what you are!\n",
      "             Up above the world so high\n",
      "             Like a diamond in the sky.\n",
      "Twinkle, twinkle, little star\n",
      "      How I wonder what you are.\n"
     ]
    }
   ],
   "source": [
    "# Method no.2\n",
    "\n",
    "print(\"Twinkle, twinkle, little star\")\n",
    "print(\"      How I wonder what you are!\")\n",
    "print(\"             Up above the world so high\")\n",
    "print(\"             Like a diamond in the sky.\")\n",
    "print(\"Twinkle, twinkle, little star\")\n",
    "print(\"      How I wonder what you are.\")"
   ]
  },
  {
   "cell_type": "code",
   "execution_count": 3,
   "metadata": {},
   "outputs": [
    {
     "name": "stdout",
     "output_type": "stream",
     "text": [
      "Python version 3.7.4 (default, Aug  9 2019, 18:34:13) [MSC v.1915 64 bit (AMD64)]\n"
     ]
    }
   ],
   "source": [
    "# Answer no.2\n",
    "\n",
    "import sys\n",
    "print(\"Python version\",end=\" \")\n",
    "print(sys.version)"
   ]
  },
  {
   "cell_type": "code",
   "execution_count": 4,
   "metadata": {},
   "outputs": [
    {
     "name": "stdout",
     "output_type": "stream",
     "text": [
      "  Current Date & Time:\n",
      " 05/11/2019 01:07:27 PM\n"
     ]
    }
   ],
   "source": [
    "# Answer no.3\n",
    "\n",
    "import datetime\n",
    "print(\"  Current Date & Time:\\n\",datetime.datetime.now().strftime(\"%d/%m/%Y %I:%M:%S %p\"))"
   ]
  },
  {
   "cell_type": "code",
   "execution_count": 5,
   "metadata": {},
   "outputs": [
    {
     "name": "stdout",
     "output_type": "stream",
     "text": [
      "Enter the radius of the circle: 2\n",
      "Area of the circle is: 12.56\n"
     ]
    }
   ],
   "source": [
    "# Answer no.4\n",
    "\n",
    "PI = 3.14\n",
    "r = float(input(\"Enter the radius of the circle: \"))\n",
    "area = PI*r**2\n",
    "print(\"Area of the circle is: %.2f\"%area)"
   ]
  },
  {
   "cell_type": "code",
   "execution_count": 6,
   "metadata": {},
   "outputs": [
    {
     "name": "stdout",
     "output_type": "stream",
     "text": [
      "Enter your first name: Abdul\n",
      "Enter your last name: Ahad\n",
      "Full name in reverse order: Ahad Abdul\n"
     ]
    }
   ],
   "source": [
    "# Answer no.5\n",
    "\n",
    "First_Name = input(\"Enter your first name: \")\n",
    "Last_Name = input(\"Enter your last name: \")\n",
    "print(\"Full name in reverse order:\",Last_Name,First_Name)"
   ]
  },
  {
   "cell_type": "code",
   "execution_count": 7,
   "metadata": {},
   "outputs": [
    {
     "name": "stdout",
     "output_type": "stream",
     "text": [
      "Enter your 1st number: 15\n",
      "Enter your 2nd number: 18.46\n",
      "The Addition of both number is = 33.46  or 33\n"
     ]
    }
   ],
   "source": [
    "# Answer no.6\n",
    "# You can also give values in decimal\n",
    "\n",
    "n1 = float(input(\"Enter your 1st number: \"))\n",
    "n2 = float(input(\"Enter your 2nd number: \"))\n",
    "n3 = n1+n2\n",
    "print(\"The Addition of both number is = %.2f\"%n3,\" or %.0f\"%n3)"
   ]
  },
  {
   "cell_type": "code",
   "execution_count": null,
   "metadata": {},
   "outputs": [],
   "source": []
  }
 ],
 "metadata": {
  "kernelspec": {
   "display_name": "Python 3",
   "language": "python",
   "name": "python3"
  },
  "language_info": {
   "codemirror_mode": {
    "name": "ipython",
    "version": 3
   },
   "file_extension": ".py",
   "mimetype": "text/x-python",
   "name": "python",
   "nbconvert_exporter": "python",
   "pygments_lexer": "ipython3",
   "version": "3.7.4"
  }
 },
 "nbformat": 4,
 "nbformat_minor": 2
}
