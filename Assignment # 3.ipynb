{
 "cells": [
  {
   "cell_type": "code",
   "execution_count": 3,
   "metadata": {
    "scrolled": true
   },
   "outputs": [
    {
     "name": "stdout",
     "output_type": "stream",
     "text": [
      "---- CALCULATOR ----\n",
      "\n",
      "Enter a number: 9\n",
      "Enter Operator: a\n",
      "\u001b[91mGiven Operator is incorrect please try again\u001b[0m\n",
      "Please enter a correct operator: ^\n",
      "Enter a Power or Exponent: 2\n",
      "\n",
      "Answer = 81.0\n"
     ]
    }
   ],
   "source": [
    "# Answer no. 1\n",
    "\n",
    "# If you give wrong operator, it gives error msg in red font and ask you to re-enter operator until the operator is correct.\n",
    "# And after you give correct operator it will ask you to enter another number according to operator.\n",
    "# You can give both operator \"**\" or \"^\" to give the power or exponent.\n",
    "# You can also give values in decimal.\n",
    "\n",
    "\n",
    "print (\"---- CALCULATOR ----\\n\")\n",
    "\n",
    "num_1 = int(input(\"Enter a number: \"))\n",
    "operator = input(\"Enter Operator: \")\n",
    "\n",
    "while operator != \"+\" or operator != \"-\" or operator != \"*\" or operator != \"/\" or operator != \"^\" or operator != \"**\":\n",
    "    if operator == \"+\":\n",
    "        num_2 = float(input(\"Enter a number to Add: \"))\n",
    "        break\n",
    "    elif operator == \"-\":\n",
    "        num_2 = float(input(\"Enter a number to Less: \"))\n",
    "        break\n",
    "    elif operator == \"*\":\n",
    "        num_2 = float(input(\"Enter a number to Multiply: \"))\n",
    "        break\n",
    "    elif operator == \"/\":\n",
    "        num_2 = float(input(\"Enter a divisor number: \"))\n",
    "        break\n",
    "    elif operator == \"^\":\n",
    "        num_2 = float(input(\"Enter a Power or Exponent: \"))\n",
    "        break\n",
    "    elif operator == \"**\":\n",
    "        num_2 = float(input(\"Enter a Power or Exponent: \"))\n",
    "        break\n",
    "    else:\n",
    "        print (\"\\033[91m\"+\"Given Operator is incorrect please try again\"+\"\\033[0m\")\n",
    "        operator = input(\"Please enter a correct operator: \")\n",
    "\n",
    "\n",
    "if operator == \"+\":\n",
    "    print (\"\\nAnswer =\",num_1 + num_2)\n",
    "elif operator == \"-\":\n",
    "    print (\"\\nAnswer =\",num_1 - num_2)\n",
    "elif operator == \"*\":\n",
    "    print (\"\\nAnswer =\",num_1 * num_2)\n",
    "elif operator == \"/\":\n",
    "    print (\"\\nAnswer =\",num_1 / num_2)\n",
    "elif operator == \"^\":\n",
    "    print (\"\\nAnswer =\",num_1 ** num_2)\n",
    "elif operator == \"**\":\n",
    "    print (\"\\nAnswer =\",num_1 ** num_2)"
   ]
  },
  {
   "cell_type": "code",
   "execution_count": 1,
   "metadata": {},
   "outputs": [
    {
     "name": "stdout",
     "output_type": "stream",
     "text": [
      "There are 3 numeric values in a list\n",
      "\n",
      "Type \"YES\" to see numeric values in a list: yes\n",
      "\n",
      "Numbers in a List are : [5, 8, 1]\n",
      "\n"
     ]
    }
   ],
   "source": [
    "# Answer no. 2\n",
    "\n",
    "# This program take numbers from list and saves it in another variable.\n",
    "# It shows answer that list contain numeric values or not.\n",
    "# You can type \"yes\" in any case i.e (\"YES\", \"yes\", \"Yes\" etc) to see the numbers in the list.\n",
    "\n",
    "\n",
    "list = [\"Karachi\",\"Peshawar\",5,\"Multan\",8,\"Lahore\",\"Islamabad\",1]\n",
    "num_in_list = []\n",
    "for item in list:\n",
    "    try:\n",
    "        int_value = int(item)\n",
    "    except ValueError:\n",
    "        pass\n",
    "    else:\n",
    "        num_in_list.append(item)\n",
    "if len(num_in_list) == 0:\n",
    "    print (\"There is no numeric value in a list\")\n",
    "elif len(num_in_list) == 1:\n",
    "    print (\"There is a '1' numeric value in a list\")\n",
    "    ans = input(\"Type \\\"YES\\\" to see numeric value in the list: \").upper()\n",
    "    if ans == \"YES\":\n",
    "        print(\"\\n\",\"Number in a List is : \",num_in_list,\"\\n\",sep=\"\")\n",
    "else:\n",
    "    print (\"There are\", len(num_in_list),\"numeric values in a list\\n\")\n",
    "    ans = input(\"Type \\\"YES\\\" to see numeric values in a list: \").upper()\n",
    "    if ans == \"YES\":\n",
    "        print(\"\\n\",\"Numbers in a List are : \",num_in_list,\"\\n\",sep=\"\")"
   ]
  },
  {
   "cell_type": "code",
   "execution_count": 3,
   "metadata": {},
   "outputs": [
    {
     "name": "stdout",
     "output_type": "stream",
     "text": [
      "Enter a key to add in a dictionary: roll no.\n",
      "Enter Roll No. value: 1124\n",
      "\n",
      "Key And Its Value is added: {'First Name': 'Abdul', 'Last Name': 'Ahad', 'Father Name': 'Muahmmad Shams', 'Roll No.': '1124'}\n"
     ]
    }
   ],
   "source": [
    "# Answer no. 3\n",
    "\n",
    "# It asks you to enter any key to add in dictionary.\n",
    "# It makes a key in title case.\n",
    "# Then it ask you with the name of key to enter the value of a key.\n",
    "# Then it print the dictionary.\n",
    "\n",
    "student_9023 = {\n",
    "    \"First Name\":\"Abdul\",\n",
    "    \"Last Name\":\"Ahad\",\n",
    "    \"Father Name\":\"Muahmmad Shams\"\n",
    "}\n",
    "new_key = input(\"Enter a key to add in a dictionary: \").title()\n",
    "new_key_value = input(\"Enter \"+new_key+\" value: \")\n",
    "print (\"\")\n",
    "student_9023[new_key] = new_key_value\n",
    "print (\"Key And Its Value is added:\",student_9023)\n"
   ]
  },
  {
   "cell_type": "code",
   "execution_count": 5,
   "metadata": {},
   "outputs": [
    {
     "name": "stdout",
     "output_type": "stream",
     "text": [
      "Sum of all numeric values in a dictionary: 42\n"
     ]
    }
   ],
   "source": [
    "# Answer no. 4\n",
    "\n",
    "# It adds all numeric values in dictionary and give the answer.\n",
    "\n",
    "num_dic = {\"v1\" : 5,\n",
    "           \"v2\" : 6,\n",
    "           \"v3\" : 10,\n",
    "           \"v4\" : 8,\n",
    "           \"v5\" : 6,\n",
    "           \"v6\" : 4,\n",
    "           \"v7\" : 3 }\n",
    "\n",
    "add = sum(num_dic.values())\n",
    "print (\"Sum of all numeric values in a dictionary:\",add)"
   ]
  },
  {
   "cell_type": "code",
   "execution_count": 3,
   "metadata": {},
   "outputs": [
    {
     "name": "stdout",
     "output_type": "stream",
     "text": [
      "Duplicate Values = {'karachi', 'ABC', 10, 5}\n"
     ]
    }
   ],
   "source": [
    "# Answer no. 5\n",
    "\n",
    "# It gives duplicate values in output from list.\n",
    "\n",
    "list = [\"karachi\", 5, \"Multan\", \"ABC\", \"karachi\", 10, 3, 10, \"Islamabad\", \"ABC\", 5]\n",
    "duplicate = []\n",
    "for x in list:\n",
    "    if list.count(x) > 1:\n",
    "        duplicate.append(x)\n",
    "print (\"Duplicate Values =\",set(duplicate))"
   ]
  },
  {
   "cell_type": "code",
   "execution_count": 6,
   "metadata": {},
   "outputs": [
    {
     "name": "stdout",
     "output_type": "stream",
     "text": [
      "Enter a Key to add in a dictionary: first name\n",
      "This Key is already exists in a dictionary\n"
     ]
    }
   ],
   "source": [
    "# Answer no. 6\n",
    "\n",
    "# It Takes Input as a Key and check a given key already exists in a dictionary or Not.\n",
    "# If given key is already exists in a dictionary it shows \"This Key is already exists in a dictionary\".\n",
    "# If given key is not in a dictionary it shows \"This Key is not found in a dictionary\".\n",
    "# It also shows option to add not found Key by entering \"Yes\".\n",
    "\n",
    "student_9023 = {\n",
    "    \"First Name\":\"Abdul\",\n",
    "    \"Last Name\":\"Ahad\",\n",
    "    \"Father Name\":\"Muahmmad Shams\",\n",
    "    \"Roll No.\" : 1124}\n",
    "dict_key = input(\"Enter a Key to add in a dictionary: \").title()\n",
    "if dict_key in student_9023:\n",
    "    print(\"This Key is already exists in a dictionary\")\n",
    "else:\n",
    "    print (\"This Key is not found in a dictionary\")\n",
    "    ans = input(\"If you want to add this key type\\\"Yes\\\": \").title()\n",
    "    if ans == \"Yes\":\n",
    "        student_9023[dict_key] = \"\"\n",
    "        print (student_9023)\n",
    "\n"
   ]
  }
 ],
 "metadata": {
  "kernelspec": {
   "display_name": "Python 3",
   "language": "python",
   "name": "python3"
  },
  "language_info": {
   "codemirror_mode": {
    "name": "ipython",
    "version": 3
   },
   "file_extension": ".py",
   "mimetype": "text/x-python",
   "name": "python",
   "nbconvert_exporter": "python",
   "pygments_lexer": "ipython3",
   "version": "3.7.4"
  }
 },
 "nbformat": 4,
 "nbformat_minor": 2
}
