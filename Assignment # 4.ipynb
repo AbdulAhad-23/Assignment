{
 "cells": [
  {
   "cell_type": "code",
   "execution_count": 15,
   "metadata": {},
   "outputs": [
    {
     "name": "stdout",
     "output_type": "stream",
     "text": [
      "# PERSON DETAILS :\n",
      "\n",
      "First Name    : Muhammad\n",
      "Last Name     : Anas\n",
      "Age           : 19 years\n",
      "City          : Karachi\n",
      "\n",
      "# PERSON DETAILS WITH NEW CREATED KEY NAMED QUALIFICATION :\n",
      "\n",
      "First Name    : Muhammad\n",
      "Last Name     : Anas\n",
      "Age           : 19 years\n",
      "City          : Karachi\n",
      "Qualification : \n",
      "\n",
      "# PERSON DETAILS WITH UPDATED VALUE OF QUALIFICATION KEY :\n",
      "\n",
      "First Name    : Muhammad\n",
      "Last Name     : Anas\n",
      "Age           : 19 years\n",
      "City          : Karachi\n",
      "Qualification : Intermediate\n",
      "\n",
      "# PERSON DETAILS AFTER DELETING QUALIFICATION KEY WITH ITS VALUE :\n",
      "\n",
      "First Name    : Muhammad\n",
      "Last Name     : Anas\n",
      "Age           : 19 years\n",
      "City          : Karachi\n"
     ]
    }
   ],
   "source": [
    "# Answer no. 1\n",
    "\n",
    "person = {\n",
    "    \"first_name\":\"Muhammad\",\n",
    "    \"last_name\":\"Anas\",\n",
    "    \"age\":\"19 years\",\n",
    "    \"city\":\"Karachi\",    \n",
    "}\n",
    "\n",
    "print (\"# PERSON DETAILS :\\n\")\n",
    "print (\"First Name    : \"+person[\"first_name\"]+\"\\nLast Name     : \"+person[\"last_name\"]+\"\\nAge           : \"+person[\"age\"]+\"\\nCity          : \"+person[\"city\"]+\"\\n\")\n",
    "\n",
    "person[\"qualification\"] = \"\"\n",
    "print (\"# PERSON DETAILS WITH NEW CREATED KEY NAMED QUALIFICATION :\\n\")\n",
    "print (\"First Name    : \"+person[\"first_name\"]+\"\\nLast Name     : \"+person[\"last_name\"]+\"\\nAge           : \"+person[\"age\"]+\"\\nCity          : \"+person[\"city\"]+\"\\nQualification : \"+person[\"qualification\"]+\"\\n\")\n",
    "\n",
    "person[\"qualification\"] = \"Intermediate\"\n",
    "print (\"# PERSON DETAILS WITH UPDATED VALUE OF QUALIFICATION KEY :\\n\")\n",
    "print (\"First Name    : \"+person[\"first_name\"]+\"\\nLast Name     : \"+person[\"last_name\"]+\"\\nAge           : \"+person[\"age\"]+\"\\nCity          : \"+person[\"city\"]+\"\\nQualification : \"+person[\"qualification\"]+\"\\n\")\n",
    "\n",
    "del person[\"qualification\"]\n",
    "print (\"# PERSON DETAILS AFTER DELETING QUALIFICATION KEY WITH ITS VALUE :\\n\")\n",
    "print (\"First Name    : \"+person[\"first_name\"]+\"\\nLast Name     : \"+person[\"last_name\"]+\"\\nAge           : \"+person[\"age\"]+\"\\nCity          : \"+person[\"city\"])"
   ]
  },
  {
   "cell_type": "code",
   "execution_count": 2,
   "metadata": {},
   "outputs": [
    {
     "name": "stdout",
     "output_type": "stream",
     "text": [
      "Karachi:\n",
      "     Karachi is the city of Pakistan.\n",
      "     The population of Karachi in 2017 was 14.91 million.\n",
      "     Fact is, Karachi is known as the heart of Pakistan was also the first capital of the newly founded Pakistan.\n",
      "\n",
      "Tokyo:\n",
      "     Tokyo is the city of Japan.\n",
      "     The population of Tokyo in 2015 was 9.273 million.\n",
      "     Fact is, Tokyo was formerly known as “Edo” in the 20th century.\n",
      "\n",
      "Shanghai:\n",
      "     Shanghai is the city of China.\n",
      "     The population of Shanghai in 2018 was 24.24 million.\n",
      "     Fact is, Shanghai is the world's largest city and transportation powerhouse.\n",
      "\n"
     ]
    }
   ],
   "source": [
    "# Answer no. 2\n",
    "\n",
    "cities = {\n",
    "    \"Karachi\":{\n",
    "        \"country\":\"Pakistan\",\n",
    "        \"population\":\"in 2017 was 14.91 million.\",\n",
    "        \"fact\":\"Karachi is known as the heart of Pakistan was also the first capital of the newly founded Pakistan.\"\n",
    "    },\n",
    "    \"Tokyo\":{\n",
    "        \"country\":\"Japan\",\n",
    "        \"population\":\"in 2015 was 9.273 million.\",\n",
    "        \"fact\":\"Tokyo was formerly known as “Edo” in the 20th century.\"\n",
    "    },\n",
    "    \"Shanghai\":{\n",
    "        \"country\":\"China\",\n",
    "        \"population\":\"in 2018 was 24.24 million.\",\n",
    "        \"fact\":\"Shanghai is the world's largest city and transportation powerhouse.\"\n",
    "    },\n",
    "}\n",
    "\n",
    "for key in cities:\n",
    "    print (key+\":\"+\"\\n     \"+key+\" is the city of \"+cities[key][\"country\"]+\".\\n\"+\"     The population of \"+key+\" \"+cities[key][\"population\"]+\"\\n     \"+\"Fact is, \"+cities[key][\"fact\"]+\"\\n\")"
   ]
  },
  {
   "cell_type": "code",
   "execution_count": 1,
   "metadata": {},
   "outputs": [
    {
     "name": "stdout",
     "output_type": "stream",
     "text": [
      "Enter 'quit' when you are finished.\n",
      "\n",
      "Enter age : 13\n",
      "  Your ticket is $15.\n",
      "\n",
      "Enter age : 3\n",
      "  Your ticket is $10.\n",
      "\n",
      "Enter age : 19\n",
      "  Your ticket is $15.\n",
      "\n",
      "Enter age : 1\n",
      "  Your ticket is Free.\n",
      "\n",
      "Enter age : 23\n",
      "  Your ticket is $15.\n",
      "\n",
      "Enter age : quit\n",
      "\n",
      "-------------------------\n",
      "    Total Tickets = 5\n",
      "    Total Amount = $55\n",
      "-------------------------\n"
     ]
    }
   ],
   "source": [
    "# Answer no. 3\n",
    "\n",
    "print (\"Enter 'quit' when you are finished.\\n\")\n",
    "ask = \"Enter age : \"\n",
    "total = []\n",
    "free = []\n",
    "while True:\n",
    "    age = input(ask)\n",
    "    if age == 'quit':\n",
    "        print(\"\\n-------------------------\\n    Total Tickets = \"+str(len(total)+len(free))+\"\\n    Total Amount = \"+\"$\"+str(sum(total))+\"\\n-------------------------\")\n",
    "        break\n",
    "    \n",
    "    age = int(age)\n",
    "    if age < 3:\n",
    "        price = \"Free\"\n",
    "        free.append(price)\n",
    "        print(\"  Your ticket is \"+price+\".\\n\")\n",
    "    elif age < 13:\n",
    "        price = 10\n",
    "        total.append(price)\n",
    "        print(\"  Your ticket is \"+\"$\"+str(price)+\".\\n\")\n",
    "    else:\n",
    "        price = 15\n",
    "        total.append(price)\n",
    "        print(\"  Your ticket is \"+\"$\"+str(price)+\".\\n\")"
   ]
  },
  {
   "cell_type": "code",
   "execution_count": 22,
   "metadata": {},
   "outputs": [
    {
     "name": "stdout",
     "output_type": "stream",
     "text": [
      "One of my favorite book is \"The Reluctant Fundamentalist\"\n"
     ]
    }
   ],
   "source": [
    "# Answer no. 4\n",
    "\n",
    "def favorite_book(title):\n",
    "    text = \"One of my favorite book is \"+title\n",
    "    print(\"One of my favorite book is\",title)\n",
    "\n",
    "favorite_book(\"\\\"The Reluctant Fundamentalist\\\"\")\n"
   ]
  },
  {
   "cell_type": "code",
   "execution_count": 2,
   "metadata": {},
   "outputs": [
    {
     "name": "stdout",
     "output_type": "stream",
     "text": [
      "Incorrect Answers\n",
      "Hidden number is \"25\"\n",
      "\n",
      "           --------------\n",
      "              You Lose!\n",
      "           --------------\n"
     ]
    }
   ],
   "source": [
    "# Answer no. 5\n",
    "\n",
    "# Please just run the code and try this application then you will understand the code.\n",
    "\n",
    "# It automatically generates random number between 1 to 30.\n",
    "# It gives user 3 chance to guess.\n",
    "# If user guess correct number it shows \"You Win!\".\n",
    "# If user guess incorrect number three times it shows the hidden number and shows \"You lose!\".\n",
    "\n",
    "from IPython.display import clear_output\n",
    "import random\n",
    "\n",
    "print(\"Welcome to \\\"Guess The Number\\\" game.\\n\")    \n",
    "print(\"There is a hidden number between 1 to 30\")\n",
    "hidden_num = random.randint(1,30)\n",
    "\n",
    "txt = [\"Wrong Number, Try Again.\",\"Wrong Number, Last Chance Try Again.\"]\n",
    "\n",
    "for i in range(10):\n",
    "    ans = int(input(\"Guess the hidden number: \"))\n",
    "    if hidden_num > ans:\n",
    "        hint_txt = \"Hint : Hidden number is greater than \"+str(ans)\n",
    "    else:\n",
    "        hint_txt = \"Hint : Hidden number is smaller than \"+str(ans)\n",
    "    if ans == hidden_num:\n",
    "        clear_output()\n",
    "        print(\"\\\"Correct Answer\\\"\\nHidden Number is \\\"\"+str(hidden_num)+\"\\\"\")\n",
    "        print(\"\\n           --------------\")\n",
    "        print(\"              You Win!\")\n",
    "        print(\"           --------------\")\n",
    "        break\n",
    "    else:\n",
    "        try:\n",
    "            clear_output()\n",
    "            print(txt[i])\n",
    "            print(hint_txt)\n",
    "        except:\n",
    "            clear_output()\n",
    "            print(\"Incorrect Answers\")\n",
    "            print(\"Hidden number is \\\"\"+str(hidden_num)+\"\\\"\")\n",
    "            print(\"\\n           --------------\")\n",
    "            print(\"              You Lose!\")\n",
    "            print(\"           --------------\")\n",
    "            break"
   ]
  },
  {
   "cell_type": "code",
   "execution_count": null,
   "metadata": {},
   "outputs": [],
   "source": []
  }
 ],
 "metadata": {
  "kernelspec": {
   "display_name": "Python 3",
   "language": "python",
   "name": "python3"
  },
  "language_info": {
   "codemirror_mode": {
    "name": "ipython",
    "version": 3
   },
   "file_extension": ".py",
   "mimetype": "text/x-python",
   "name": "python",
   "nbconvert_exporter": "python",
   "pygments_lexer": "ipython3",
   "version": "3.7.4"
  }
 },
 "nbformat": 4,
 "nbformat_minor": 2
}
