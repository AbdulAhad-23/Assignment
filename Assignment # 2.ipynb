{
 "cells": [
  {
   "cell_type": "code",
   "execution_count": 6,
   "metadata": {
    "scrolled": false
   },
   "outputs": [
    {
     "name": "stdout",
     "output_type": "stream",
     "text": [
      "=====================================\n",
      "        M A R K S    S H E E T       \n",
      "=====================================\n",
      "Student Name: Abdul Ahad\n",
      "Father Name: M.Shams\n",
      "Class: 9th\n",
      "Roll no: 9023\n",
      "--------------------------------------\n",
      "|  Subjects       | Marks out of 100 |\n",
      "--------------------------------------\n",
      "|  English        |        82        |\n",
      "|  Urdu           |        76        |\n",
      "|  Maths          |        91        |\n",
      "|  Islamiat       |        70        |\n",
      "|  Computer       |        85        |\n",
      "--------------------------------------\n",
      "|Total out of 500 |        404       |\n",
      "--------------------------------------\n",
      "\n",
      "Percentage = 80.80%         Grade = \"A+\"\n",
      "\n",
      "\n"
     ]
    }
   ],
   "source": [
    "# Answer no. 1 \n",
    "\n",
    "from IPython.display import clear_output\n",
    "\n",
    "Student_Name = input(\"Enter Student Name: \")\n",
    "Father_Name = input(\"Enter Father Name: \")\n",
    "Class = input(\"Enter class: \")\n",
    "Roll_Num = int(input(\"Enter Roll Number: \"))\n",
    "\n",
    "English = int(input(\"Enter English Marks out of 100: \"))\n",
    "Urdu = int(input(\"Enter Urdu Marks out of 100: \"))\n",
    "Maths = int(input(\"Enter Maths Marks out 100: \"))\n",
    "Islamiat = int(input(\"Enter Islamiat Marks out of 100: \"))\n",
    "Computer = int(input(\"Enter Computer Marks out of 100: \"))\n",
    "\n",
    "clear_output()\n",
    "\n",
    "Total_marks = English + Urdu + Maths + Islamiat + Computer\n",
    "per = float((Total_marks / 500)*100);\n",
    "\n",
    "if per >= 80 and per <=100:\n",
    "    grade = \"A+\"\n",
    "elif per >= 70 and per <80:\n",
    "    grade = \"A\"\n",
    "elif per >= 60 and per <70:\n",
    "    grade = \"B\"\n",
    "elif per >= 50 and per <60:\n",
    "    grade = \"C\"\n",
    "elif per >= 40 and per <50:\n",
    "    grade = \"D\"\n",
    "elif per >= 33 and per <40:\n",
    "    grade = \"E\"\n",
    "elif per >= 0 and per <33:\n",
    "    grade = \"Fail\"\n",
    "else :\n",
    "    grade = \"You have give inapproperiate marks\"\n",
    "\n",
    "print (\"=====================================\")\n",
    "print (\"        M A R K S    S H E E T       \")\n",
    "print (\"=====================================\")\n",
    "print (\"Student Name:\",Student_Name)\n",
    "print (\"Father Name:\",Father_Name)\n",
    "print (\"Class:\",Class)\n",
    "print (\"Roll no:\",Roll_Num)\n",
    "print (\"--------------------------------------\")\n",
    "print (\"|  Subjects       | Marks out of 100 |\")\n",
    "print (\"--------------------------------------\")\n",
    "print (\"|  English        |       \", English, \"       |\")\n",
    "print (\"|  Urdu           |       \", Urdu, \"       |\")\n",
    "print (\"|  Maths          |       \", Maths, \"       |\")\n",
    "print (\"|  Islamiat       |       \", Islamiat, \"       |\")\n",
    "print (\"|  Computer       |       \", Computer, \"       |\")\n",
    "print (\"--------------------------------------\")\n",
    "print (\"|Total out of 500 |       \", Total_marks,\"      |\")\n",
    "print (\"--------------------------------------\")\n",
    "print (\"\")\n",
    "print (\"Percentage = %.2f\"%per+\"%\",\"        Grade =\",\"\\\"\"+grade+\"\\\"\")\n",
    "print (\"\\n\")\n"
   ]
  },
  {
   "cell_type": "code",
   "execution_count": 16,
   "metadata": {},
   "outputs": [
    {
     "name": "stdout",
     "output_type": "stream",
     "text": [
      "\"-23\" is an odd number.\n"
     ]
    }
   ],
   "source": [
    "# Answer no. 2\n",
    "\n",
    "from IPython.display import clear_output\n",
    "\n",
    "num = int(input(\"Enter a number: \"))\n",
    "clear_output()\n",
    "cal = num % 2\n",
    "if cal > 0:\n",
    "    print(\"\\\"\",num,\"\\\"\", \" is an odd number.\", sep =\"\")\n",
    "else:\n",
    "    print(\"\\\"\",num,\"\\\"\", \" is an even number.\", sep =\"\")"
   ]
  },
  {
   "cell_type": "code",
   "execution_count": 25,
   "metadata": {},
   "outputs": [
    {
     "name": "stdout",
     "output_type": "stream",
     "text": [
      "The Length of Students list is: 12\n"
     ]
    }
   ],
   "source": [
    "# Answer no. 3\n",
    "\n",
    "students = [\"Anas\", \"Umer\", \"Hammad\", \"Ahmed\", \"Taha\", \"Adnan\", \"Ali\", \"Irfan\", \"Raza\"]\n",
    "students.append(\"Hamza\")\n",
    "students.append(\"Haris\")\n",
    "students.append(\"Abdullah\")\n",
    "print (\"The Length of Students list is:\",len(students))"
   ]
  },
  {
   "cell_type": "code",
   "execution_count": 5,
   "metadata": {},
   "outputs": [
    {
     "name": "stdout",
     "output_type": "stream",
     "text": [
      "The sum of numeric item list is: \"186\"\n"
     ]
    }
   ],
   "source": [
    "# Answer no. 4\n",
    "\n",
    "num = [2, 16, 23, 19, 48, 24, 29, 15, 10]\n",
    "print (\"The sum of numeric item list is: \",'\"',sum(num),'\"',sep = \"\")"
   ]
  },
  {
   "cell_type": "code",
   "execution_count": 7,
   "metadata": {},
   "outputs": [
    {
     "name": "stdout",
     "output_type": "stream",
     "text": [
      "The largest number in the numeric list is: \"48\"\n"
     ]
    }
   ],
   "source": [
    "# Answer no. 5\n",
    "\n",
    "num = [2, 16, 23, 19, 48, 24, 29, 15, 10]\n",
    "print (\"The largest number in the numeric list is: \",'\"',max(num),'\"',sep = \"\")"
   ]
  },
  {
   "cell_type": "code",
   "execution_count": 12,
   "metadata": {},
   "outputs": [
    {
     "name": "stdout",
     "output_type": "stream",
     "text": [
      "Numbers which are less then 5 in List: [1, 1, 2, 3]\n"
     ]
    }
   ],
   "source": [
    "# Answer no. 6\n",
    "\n",
    "from IPython.display import clear_output\n",
    "\n",
    "a = [1, 1, 2, 3, 5, 8, 13, 21, 34, 55, 89]\n",
    "num = []\n",
    "for i in a:\n",
    "    if i < 5:\n",
    "        num.append(i)\n",
    "\n",
    "print(\"Numbers which are less then 5 in List:\",num)"
   ]
  }
 ],
 "metadata": {
  "kernelspec": {
   "display_name": "Python 3",
   "language": "python",
   "name": "python3"
  },
  "language_info": {
   "codemirror_mode": {
    "name": "ipython",
    "version": 3
   },
   "file_extension": ".py",
   "mimetype": "text/x-python",
   "name": "python",
   "nbconvert_exporter": "python",
   "pygments_lexer": "ipython3",
   "version": "3.7.4"
  }
 },
 "nbformat": 4,
 "nbformat_minor": 2
}
