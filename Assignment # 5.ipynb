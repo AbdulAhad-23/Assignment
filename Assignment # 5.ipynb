{
 "cells": [
  {
   "cell_type": "code",
   "execution_count": 8,
   "metadata": {},
   "outputs": [
    {
     "name": "stdout",
     "output_type": "stream",
     "text": [
      "Enter a number to calculate the factorial: 4\n",
      "\n",
      "Factorial of 4 is 24\n"
     ]
    }
   ],
   "source": [
    "# Answer no. 1\n",
    "\n",
    "def factorial(n):\n",
    "    if n == 0:\n",
    "        return 1\n",
    "    else:\n",
    "        return n * factorial(n-1)\n",
    "    \n",
    "n = int(input(\"Enter a number to calculate the factorial: \"))\n",
    "\n",
    "print(\"\\nFactorial of \"+str(n)+\" is \"+str(factorial(n)))\n",
    "\n"
   ]
  },
  {
   "cell_type": "code",
   "execution_count": 10,
   "metadata": {},
   "outputs": [
    {
     "name": "stdout",
     "output_type": "stream",
     "text": [
      "Enter any string to test: My name is Abdul Ahad\n",
      "\n",
      "Given string = My name is Abdul Ahad \n",
      "\n",
      "Upper Case in string = 3 \n",
      "Lower Case in string = 14\n"
     ]
    }
   ],
   "source": [
    "# Answer no. 2\n",
    "\n",
    "def str_check(string_test):\n",
    "    for char in string_test:\n",
    "        if char.isupper():\n",
    "            count[\"upper\"]+=1\n",
    "        elif char.islower():\n",
    "            count[\"lower\"]+=1\n",
    "        else:\n",
    "            pass\n",
    "    print(\"\\nGiven string =\",string_test,\"\\n\\nUpper Case in string =\",count[\"upper\"],\"\\nLower Case in string =\",count[\"lower\"])\n",
    "    \n",
    "count = {\"upper\":0 , \"lower\":0}    \n",
    "string_test = input(\"Enter any string to test: \")\n",
    "str_check(string_test)"
   ]
  },
  {
   "cell_type": "code",
   "execution_count": 2,
   "metadata": {
    "scrolled": false
   },
   "outputs": [
    {
     "data": {
      "text/plain": [
       "[14, 8, 6, 20, 10, 24]"
      ]
     },
     "execution_count": 2,
     "metadata": {},
     "output_type": "execute_result"
    }
   ],
   "source": [
    "# Answer no. 3\n",
    "\n",
    "def even(list):\n",
    "    even_num = []\n",
    "    for n in list:\n",
    "        if n % 2 == 0:\n",
    "            even_num.append(n)\n",
    "        else:\n",
    "            pass\n",
    "    if len(even_num) == 0:\n",
    "        print(\"Given list is empty\")\n",
    "    else:\n",
    "        return even_num\n",
    "\n",
    "num_list = [14,23,8,27,19,6,20,7,10,25,24,15]\n",
    "even(num_list)"
   ]
  },
  {
   "cell_type": "code",
   "execution_count": 46,
   "metadata": {},
   "outputs": [
    {
     "name": "stdout",
     "output_type": "stream",
     "text": [
      "Check any string whether it is palindrome or not: Madam\n",
      "\n",
      "YES, this string is palindrome.\n"
     ]
    }
   ],
   "source": [
    "# Answer no. 4\n",
    "\n",
    "# You can give string in any case.\n",
    "\n",
    "def is_palindrome(string):\n",
    "    x = \"\" \n",
    "    for i in string: \n",
    "        x = i + x \n",
    "    if string.upper() == x.upper():\n",
    "        print(\"\\nYES, this string is palindrome.\")\n",
    "    else:\n",
    "        print(\"\\nNO, this string is not palindrome.\")\n",
    "\n",
    "string = input(\"Check any string whether it is palindrome or not: \")\n",
    "\n",
    "is_palindrome(string)"
   ]
  },
  {
   "cell_type": "code",
   "execution_count": 15,
   "metadata": {},
   "outputs": [
    {
     "name": "stdout",
     "output_type": "stream",
     "text": [
      "Yes, '71' is a prime number.\n"
     ]
    }
   ],
   "source": [
    "# Answer no. 5\n",
    "\n",
    "def is_prime(num):\n",
    "    if num == 1:\n",
    "        print(\"No, '1' is not a prime number.\")\n",
    "    elif num == 2:\n",
    "        print(\"Yes, '2' is a prime number.\")\n",
    "    else:\n",
    "        for x in range(2,num):\n",
    "            if num % x == 0:\n",
    "                return \"No, \\'\"+str(num)+\"\\' is not a prime number.\"\n",
    "        print(\"Yes, \\'\"+str(num)+\"\\' is a prime number.\")\n",
    "\n",
    "is_prime(71)"
   ]
  },
  {
   "cell_type": "code",
   "execution_count": 7,
   "metadata": {},
   "outputs": [
    {
     "name": "stdout",
     "output_type": "stream",
     "text": [
      "-----------------------\n",
      "     SHOPPING LIST\n",
      "-----------------------\n",
      "1) Biscuit\n",
      "2) Chocolate\n",
      "3) Milk\n",
      "4) Cold drink\n",
      "5) Bread\n",
      "6) Eggs\n"
     ]
    }
   ],
   "source": [
    "# Answer no. 6\n",
    "\n",
    "def all_items(shopping_list):\n",
    "    print(\"-----------------------\")\n",
    "    print(\"     SHOPPING LIST\")\n",
    "    print(\"-----------------------\")\n",
    "    s_no = 0\n",
    "    for item in shopping_list:\n",
    "        s_no += 1\n",
    "        print(str(s_no)+\") \"+item)\n",
    "        \n",
    "shopping_list = [\"Biscuit\",\"Chocolate\",\"Milk\",\"Cold drink\",\"Bread\",\"Eggs\"]\n",
    "all_items(shopping_list)\n"
   ]
  }
 ],
 "metadata": {
  "kernelspec": {
   "display_name": "Python 3",
   "language": "python",
   "name": "python3"
  },
  "language_info": {
   "codemirror_mode": {
    "name": "ipython",
    "version": 3
   },
   "file_extension": ".py",
   "mimetype": "text/x-python",
   "name": "python",
   "nbconvert_exporter": "python",
   "pygments_lexer": "ipython3",
   "version": "3.7.4"
  }
 },
 "nbformat": 4,
 "nbformat_minor": 2
}
